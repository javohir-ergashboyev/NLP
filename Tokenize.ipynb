{
  "nbformat": 4,
  "nbformat_minor": 0,
  "metadata": {
    "colab": {
      "provenance": [],
      "authorship_tag": "ABX9TyPcmPmkqYsgelB9eHmbQHFy",
      "include_colab_link": true
    },
    "kernelspec": {
      "name": "python3",
      "display_name": "Python 3"
    },
    "language_info": {
      "name": "python"
    }
  },
  "cells": [
    {
      "cell_type": "markdown",
      "metadata": {
        "id": "view-in-github",
        "colab_type": "text"
      },
      "source": [
        "<a href=\"https://colab.research.google.com/github/javohir-ergashboyev/NLP/blob/main/Tokenize.ipynb\" target=\"_parent\"><img src=\"https://colab.research.google.com/assets/colab-badge.svg\" alt=\"Open In Colab\"/></a>"
      ]
    },
    {
      "cell_type": "code",
      "execution_count": null,
      "metadata": {
        "id": "1CxmBq64D3UL"
      },
      "outputs": [],
      "source": [
        "import spacy"
      ]
    },
    {
      "cell_type": "code",
      "source": [
        "text='''\n",
        "Look for data to help you address the question. Governments are good\n",
        "sources because data from public research is often freely available. Good\n",
        "places to start include http://www.data.gov/, and http://www.science.\n",
        "gov/, and in the United Kingdom, http://data.gov.uk/.\n",
        "Two of my favorite data sets are the General Social Survey at http://www3.norc.org/gss+website/,\n",
        "and the European Social Survey at http://www.europeansocialsurvey.org/.\n",
        "'''"
      ],
      "metadata": {
        "id": "PGW83o5EEDjt"
      },
      "execution_count": null,
      "outputs": []
    },
    {
      "cell_type": "code",
      "source": [
        "nlp=spacy.blank('en')"
      ],
      "metadata": {
        "id": "KeZH6A_jESvP"
      },
      "execution_count": null,
      "outputs": []
    },
    {
      "cell_type": "code",
      "source": [
        "doc=nlp(text)"
      ],
      "metadata": {
        "id": "ek5EFBI4EZjK"
      },
      "execution_count": null,
      "outputs": []
    },
    {
      "cell_type": "code",
      "source": [
        "urls=[]\n",
        "for i in doc:\n",
        "  if i.like_url:\n",
        "    urls.append(i)"
      ],
      "metadata": {
        "id": "mMFHYf_nEgio"
      },
      "execution_count": null,
      "outputs": []
    },
    {
      "cell_type": "code",
      "source": [
        "urls"
      ],
      "metadata": {
        "colab": {
          "base_uri": "https://localhost:8080/"
        },
        "id": "sHUeFO1_Eogg",
        "outputId": "ae17ad4c-8397-4cf9-bc17-4fc0060203ba"
      },
      "execution_count": null,
      "outputs": [
        {
          "output_type": "execute_result",
          "data": {
            "text/plain": [
              "[http://www.data.gov/,\n",
              " http://www.science,\n",
              " http://data.gov.uk/.,\n",
              " http://www3.norc.org/gss+website/,\n",
              " http://www.europeansocialsurvey.org/.]"
            ]
          },
          "metadata": {},
          "execution_count": 8
        }
      ]
    },
    {
      "cell_type": "code",
      "source": [
        "transactions = \"Tony gave two $ to Peter, Bruce gave 500 € to Steve\""
      ],
      "metadata": {
        "id": "Oa6WtOAmE0Yb"
      },
      "execution_count": null,
      "outputs": []
    },
    {
      "cell_type": "code",
      "source": [
        "doc2=nlp(transactions)"
      ],
      "metadata": {
        "id": "lSvWjf2EE8JK"
      },
      "execution_count": null,
      "outputs": []
    },
    {
      "cell_type": "code",
      "source": [
        "for i in range(len(doc2)):\n",
        "  if i<len(doc)-1:\n",
        "    if doc2[i].like_num and doc2[i+1].is_currency:\n",
        "      print(doc2[i], doc2[i+1])"
      ],
      "metadata": {
        "colab": {
          "base_uri": "https://localhost:8080/"
        },
        "id": "e9MYNEq_E_lJ",
        "outputId": "17c42a72-5304-4c68-e101-ea862cdf404e"
      },
      "execution_count": null,
      "outputs": [
        {
          "output_type": "stream",
          "name": "stdout",
          "text": [
            "two $\n",
            "500 €\n"
          ]
        }
      ]
    },
    {
      "cell_type": "markdown",
      "source": [
        "Spacy Pipelines"
      ],
      "metadata": {
        "id": "toykFq5gGirK"
      }
    },
    {
      "cell_type": "code",
      "source": [
        "nlp.pipe_names"
      ],
      "metadata": {
        "colab": {
          "base_uri": "https://localhost:8080/"
        },
        "id": "y0QLL84eGiXe",
        "outputId": "ec86e38a-5d7f-4b8d-93c8-cac1b6f9138a"
      },
      "execution_count": null,
      "outputs": [
        {
          "output_type": "execute_result",
          "data": {
            "text/plain": [
              "[]"
            ]
          },
          "metadata": {},
          "execution_count": 24
        }
      ]
    },
    {
      "cell_type": "code",
      "source": [
        "nlp2=spacy.load('en_core_web_sm')"
      ],
      "metadata": {
        "id": "i8YLQGQ3FuFA"
      },
      "execution_count": null,
      "outputs": []
    },
    {
      "cell_type": "code",
      "source": [
        "nlp2.pipe_names"
      ],
      "metadata": {
        "colab": {
          "base_uri": "https://localhost:8080/"
        },
        "id": "4mZkZLtwJAML",
        "outputId": "47fcaa7d-3e6e-4463-9f0f-1a112eaacadc"
      },
      "execution_count": null,
      "outputs": [
        {
          "output_type": "execute_result",
          "data": {
            "text/plain": [
              "['tok2vec', 'tagger', 'parser', 'attribute_ruler', 'lemmatizer', 'ner']"
            ]
          },
          "metadata": {},
          "execution_count": 26
        }
      ]
    },
    {
      "cell_type": "code",
      "source": [
        "tx='Tesla has manifactured mode than 2 hundred thousand electro cars since 2015'\n",
        "doc3=nlp2(tx)\n",
        "for i in doc3:\n",
        "  print(i, ' | ', i.lemma_, ' | ', i.pos_)"
      ],
      "metadata": {
        "colab": {
          "base_uri": "https://localhost:8080/"
        },
        "id": "Na4yIxgdJDWQ",
        "outputId": "bae88997-edc6-4063-ae3d-4d647ac9d245"
      },
      "execution_count": null,
      "outputs": [
        {
          "output_type": "stream",
          "name": "stdout",
          "text": [
            "Tesla  |  Tesla  |  PROPN\n",
            "has  |  have  |  AUX\n",
            "manifactured  |  manifacture  |  VERB\n",
            "mode  |  mode  |  NOUN\n",
            "than  |  than  |  ADP\n",
            "2  |  2  |  NUM\n",
            "hundred  |  hundred  |  NUM\n",
            "thousand  |  thousand  |  NUM\n",
            "electro  |  electro  |  NOUN\n",
            "cars  |  car  |  NOUN\n",
            "since  |  since  |  SCONJ\n",
            "2015  |  2015  |  NUM\n"
          ]
        }
      ]
    },
    {
      "cell_type": "code",
      "source": [
        "for ent in doc3.ents:\n",
        "  print(ent.text, ent.label_)"
      ],
      "metadata": {
        "colab": {
          "base_uri": "https://localhost:8080/"
        },
        "id": "xBK2QZA8JppR",
        "outputId": "fdb9fe87-faa7-452e-c9b7-2b81ebb9a3d3"
      },
      "execution_count": null,
      "outputs": [
        {
          "output_type": "stream",
          "name": "stdout",
          "text": [
            "Tesla ORG\n",
            "2 hundred thousand CARDINAL\n",
            "electro ORG\n",
            "2015 DATE\n"
          ]
        }
      ]
    },
    {
      "cell_type": "code",
      "source": [
        "nlp.add_pipe('ner', source=nlp2)\n",
        "nlp.pipe_names"
      ],
      "metadata": {
        "colab": {
          "base_uri": "https://localhost:8080/"
        },
        "id": "Uf33RlkqJ4LG",
        "outputId": "78f303e4-7aff-4870-a71f-7db42b82d56d"
      },
      "execution_count": null,
      "outputs": [
        {
          "output_type": "execute_result",
          "data": {
            "text/plain": [
              "['ner']"
            ]
          },
          "metadata": {},
          "execution_count": 33
        }
      ]
    },
    {
      "cell_type": "markdown",
      "source": [
        "Stemming, Lemmatization"
      ],
      "metadata": {
        "id": "4CtIXCzjLX6O"
      }
    },
    {
      "cell_type": "code",
      "source": [
        "import nltk"
      ],
      "metadata": {
        "id": "xa1LTW2LLDbn"
      },
      "execution_count": null,
      "outputs": []
    },
    {
      "cell_type": "code",
      "source": [
        "from nltk.stem import PorterStemmer\n",
        "words=['eating','ate','ability','swimming']"
      ],
      "metadata": {
        "id": "mjstxh5LMm8E"
      },
      "execution_count": null,
      "outputs": []
    },
    {
      "cell_type": "code",
      "source": [
        "stemmer=PorterStemmer()\n",
        "for word in words:\n",
        "  print(word, \" | \", stemmer.stem(word))"
      ],
      "metadata": {
        "colab": {
          "base_uri": "https://localhost:8080/"
        },
        "id": "aUBx8P-YM11-",
        "outputId": "bc0c1b3c-8e70-4946-af16-cbde4520347f"
      },
      "execution_count": null,
      "outputs": [
        {
          "output_type": "stream",
          "name": "stdout",
          "text": [
            "eating  |  eat\n",
            "ate  |  ate\n",
            "ability  |  abil\n",
            "swimming  |  swim\n"
          ]
        }
      ]
    },
    {
      "cell_type": "code",
      "source": [
        "st='eating ate ability swimming'\n",
        "doc4=nlp2(st)\n",
        "for i in doc4:\n",
        "  print(i, ' | ', i.lemma_)"
      ],
      "metadata": {
        "colab": {
          "base_uri": "https://localhost:8080/"
        },
        "id": "ZraDl1VnNAaw",
        "outputId": "982e630e-e3bf-40c9-8186-f765101f9c82"
      },
      "execution_count": null,
      "outputs": [
        {
          "output_type": "stream",
          "name": "stdout",
          "text": [
            "eating  |  eat\n",
            "ate  |  eat\n",
            "ability  |  ability\n",
            "swimming  |  swimming\n"
          ]
        }
      ]
    },
    {
      "cell_type": "code",
      "source": [],
      "metadata": {
        "id": "wVPcJfa_NvUz"
      },
      "execution_count": null,
      "outputs": []
    }
  ]
}
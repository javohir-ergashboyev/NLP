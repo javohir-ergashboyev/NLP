{
  "nbformat": 4,
  "nbformat_minor": 0,
  "metadata": {
    "colab": {
      "provenance": [],
      "authorship_tag": "ABX9TyPmWih+rEK6vvWULBqtK5rK",
      "include_colab_link": true
    },
    "kernelspec": {
      "name": "python3",
      "display_name": "Python 3"
    },
    "language_info": {
      "name": "python"
    }
  },
  "cells": [
    {
      "cell_type": "markdown",
      "metadata": {
        "id": "view-in-github",
        "colab_type": "text"
      },
      "source": [
        "<a href=\"https://colab.research.google.com/github/javohir-ergashboyev/NLP/blob/main/Spacy_Exercise.ipynb\" target=\"_parent\"><img src=\"https://colab.research.google.com/assets/colab-badge.svg\" alt=\"Open In Colab\"/></a>"
      ]
    },
    {
      "cell_type": "markdown",
      "source": [
        "POS(part of speech)"
      ],
      "metadata": {
        "id": "WgttNQIpapbH"
      }
    },
    {
      "cell_type": "code",
      "execution_count": 16,
      "metadata": {
        "id": "U64rcxu4TEaz"
      },
      "outputs": [],
      "source": [
        "import spacy"
      ]
    },
    {
      "cell_type": "code",
      "source": [
        "nlp = spacy.load(\"en_core_web_sm\")\n",
        "doc = nlp(\"I didn't say I don't, you assume I can't. I let people talk in order to know how good they are at thinking.\")\n",
        "\n",
        "for token in doc:\n",
        "    print(token,\" | \", token.pos_, \" | \", spacy.explain(token.pos_))"
      ],
      "metadata": {
        "colab": {
          "base_uri": "https://localhost:8080/"
        },
        "id": "dyQi5AWZW1YM",
        "outputId": "9f9a5618-f459-4fd1-95bc-61beec9b9aaa"
      },
      "execution_count": 17,
      "outputs": [
        {
          "output_type": "stream",
          "name": "stdout",
          "text": [
            "I  |  PRON  |  pronoun\n",
            "did  |  AUX  |  auxiliary\n",
            "n't  |  PART  |  particle\n",
            "say  |  VERB  |  verb\n",
            "I  |  PRON  |  pronoun\n",
            "do  |  VERB  |  verb\n",
            "n't  |  PART  |  particle\n",
            ",  |  PUNCT  |  punctuation\n",
            "you  |  PRON  |  pronoun\n",
            "assume  |  VERB  |  verb\n",
            "I  |  PRON  |  pronoun\n",
            "ca  |  AUX  |  auxiliary\n",
            "n't  |  PART  |  particle\n",
            ".  |  PUNCT  |  punctuation\n",
            "I  |  PRON  |  pronoun\n",
            "let  |  VERB  |  verb\n",
            "people  |  NOUN  |  noun\n",
            "talk  |  VERB  |  verb\n",
            "in  |  ADP  |  adposition\n",
            "order  |  NOUN  |  noun\n",
            "to  |  PART  |  particle\n",
            "know  |  VERB  |  verb\n",
            "how  |  SCONJ  |  subordinating conjunction\n",
            "good  |  ADJ  |  adjective\n",
            "they  |  PRON  |  pronoun\n",
            "are  |  AUX  |  auxiliary\n",
            "at  |  ADP  |  adposition\n",
            "thinking  |  NOUN  |  noun\n",
            ".  |  PUNCT  |  punctuation\n"
          ]
        }
      ]
    },
    {
      "cell_type": "code",
      "source": [
        "for token in doc:\n",
        "  print(token, ' | ', token.tag_, ' | ', spacy.explain(token.tag_))"
      ],
      "metadata": {
        "colab": {
          "base_uri": "https://localhost:8080/"
        },
        "id": "S9wzzZYhXvod",
        "outputId": "5b494c66-b3bf-4119-c0e1-5c8b8f64f9b9"
      },
      "execution_count": 18,
      "outputs": [
        {
          "output_type": "stream",
          "name": "stdout",
          "text": [
            "I  |  PRP  |  pronoun, personal\n",
            "did  |  VBD  |  verb, past tense\n",
            "n't  |  RB  |  adverb\n",
            "say  |  VB  |  verb, base form\n",
            "I  |  PRP  |  pronoun, personal\n",
            "do  |  VBP  |  verb, non-3rd person singular present\n",
            "n't  |  RB  |  adverb\n",
            ",  |  ,  |  punctuation mark, comma\n",
            "you  |  PRP  |  pronoun, personal\n",
            "assume  |  VBP  |  verb, non-3rd person singular present\n",
            "I  |  PRP  |  pronoun, personal\n",
            "ca  |  MD  |  verb, modal auxiliary\n",
            "n't  |  RB  |  adverb\n",
            ".  |  .  |  punctuation mark, sentence closer\n",
            "I  |  PRP  |  pronoun, personal\n",
            "let  |  VBD  |  verb, past tense\n",
            "people  |  NNS  |  noun, plural\n",
            "talk  |  VB  |  verb, base form\n",
            "in  |  IN  |  conjunction, subordinating or preposition\n",
            "order  |  NN  |  noun, singular or mass\n",
            "to  |  TO  |  infinitival \"to\"\n",
            "know  |  VB  |  verb, base form\n",
            "how  |  WRB  |  wh-adverb\n",
            "good  |  JJ  |  adjective (English), other noun-modifier (Chinese)\n",
            "they  |  PRP  |  pronoun, personal\n",
            "are  |  VBP  |  verb, non-3rd person singular present\n",
            "at  |  IN  |  conjunction, subordinating or preposition\n",
            "thinking  |  NN  |  noun, singular or mass\n",
            ".  |  .  |  punctuation mark, sentence closer\n"
          ]
        }
      ]
    },
    {
      "cell_type": "code",
      "source": [
        "for token in doc:\n",
        "  if token.pos_ in ['PRON']:\n",
        "    print(token)"
      ],
      "metadata": {
        "colab": {
          "base_uri": "https://localhost:8080/"
        },
        "id": "GkEO4yNqYGju",
        "outputId": "6c129f9e-cfc3-44b2-b5b0-83a964ecfdc6"
      },
      "execution_count": 19,
      "outputs": [
        {
          "output_type": "stream",
          "name": "stdout",
          "text": [
            "I\n",
            "I\n",
            "you\n",
            "I\n",
            "I\n",
            "they\n"
          ]
        }
      ]
    },
    {
      "cell_type": "code",
      "source": [
        "count=doc.count_by(spacy.attrs.POS)\n",
        "count"
      ],
      "metadata": {
        "colab": {
          "base_uri": "https://localhost:8080/"
        },
        "id": "KTkJ5qRdYR1x",
        "outputId": "c053816d-809a-46de-b745-6059477863ae"
      },
      "execution_count": 20,
      "outputs": [
        {
          "output_type": "execute_result",
          "data": {
            "text/plain": [
              "{95: 6, 87: 3, 94: 4, 100: 6, 97: 3, 92: 3, 85: 2, 98: 1, 84: 1}"
            ]
          },
          "metadata": {},
          "execution_count": 20
        }
      ]
    },
    {
      "cell_type": "code",
      "source": [
        "for i, v in count.items():\n",
        "  print(doc.vocab[i].text, ' | ', v)"
      ],
      "metadata": {
        "colab": {
          "base_uri": "https://localhost:8080/"
        },
        "id": "eU8AvNvRYlAm",
        "outputId": "55caf22e-bbf7-4215-f74a-b2a726b915cd"
      },
      "execution_count": 21,
      "outputs": [
        {
          "output_type": "stream",
          "name": "stdout",
          "text": [
            "PRON  |  6\n",
            "AUX  |  3\n",
            "PART  |  4\n",
            "VERB  |  6\n",
            "PUNCT  |  3\n",
            "NOUN  |  3\n",
            "ADP  |  2\n",
            "SCONJ  |  1\n",
            "ADJ  |  1\n"
          ]
        }
      ]
    },
    {
      "cell_type": "code",
      "source": [
        "story='''Inflation rose again in April, continuing a climb that has pushed consumers to the brink and is threatening the economic expansion, the Bureau of Labor Statistics reported Wednesday.\n",
        "\n",
        "The consumer price index, a broad-based measure of prices for goods and services, increased 8.3% from a year ago, higher than the Dow Jones estimate for an 8.1% gain. That represented a slight ease from March’s peak but was still close to the highest level since the summer of 1982.\n",
        "\n",
        "Removing volatile food and energy prices, so-called core CPI still rose 6.2%, against expectations for a 6% gain, clouding hopes that inflation had peaked in March.\n",
        "\n",
        "The month-over-month gains also were higher than expectations — 0.3% on headline CPI versus the 0.2% estimate and a 0.6% increase for core, against the outlook for a 0.4% gain.\n",
        "\n",
        "The price gains also meant that workers continued to lose ground. Real wages adjusted for inflation decreased 0.1% on the month despite a nominal increase of 0.3% in average hourly earnings. Over the past year, real earnings have dropped 2.6% even though average hourly earnings are up 5.5%.\n",
        "\n",
        "Inflation has been the single biggest threat to a recovery that began early in the Covid pandemic and saw the economy in 2021 stage its biggest single-year growth level since 1984. Rising prices at the pump and in grocery stores have been one problem, but inflation has spread beyond those two areas into housing, auto sales and a host of other areas.\n",
        "\n",
        "Federal Reserve officials have responded to the problem with two interest rate hikes so far this year and pledges of more until inflation comes down to the central bank’s 2% goal. However, Wednesday’s data shows that the Fed has a big job ahead.\n",
        "\n",
        "Credits: cnbc.com'''"
      ],
      "metadata": {
        "id": "Gfwtt-1UYyW8"
      },
      "execution_count": 22,
      "outputs": []
    },
    {
      "cell_type": "code",
      "source": [
        "doc=nlp(story)\n",
        "nouns=[token for token in doc if token.pos_==\"NOUN\"]"
      ],
      "metadata": {
        "id": "YPjk5WI7ZC2c"
      },
      "execution_count": 23,
      "outputs": []
    },
    {
      "cell_type": "code",
      "source": [
        "count=doc.count_by(spacy.attrs.POS)"
      ],
      "metadata": {
        "id": "NJEVH1xhZmd1"
      },
      "execution_count": 24,
      "outputs": []
    },
    {
      "cell_type": "code",
      "source": [
        "for i, v in count.items():\n",
        "  if doc.vocab[i].text=='NUM':\n",
        "    print(v)"
      ],
      "metadata": {
        "colab": {
          "base_uri": "https://localhost:8080/"
        },
        "id": "1XY2COFaZqnu",
        "outputId": "c2f3374c-f6f4-4c86-d8ea-4f667356464c"
      },
      "execution_count": 25,
      "outputs": [
        {
          "output_type": "stream",
          "name": "stdout",
          "text": [
            "19\n"
          ]
        }
      ]
    },
    {
      "cell_type": "markdown",
      "source": [
        "NER(name entity recognition)"
      ],
      "metadata": {
        "id": "2-OdfQdrawKD"
      }
    },
    {
      "cell_type": "code",
      "source": [
        "text='Google start hiring employees with no experience, and it is going to be oportunity for you.'\n",
        "\n",
        "doc = nlp(text)"
      ],
      "metadata": {
        "id": "2iS1nnJCabuE"
      },
      "execution_count": 26,
      "outputs": []
    },
    {
      "cell_type": "code",
      "source": [
        "for ent in doc.ents:\n",
        "  print(ent.text, ' | ',ent.label_)"
      ],
      "metadata": {
        "colab": {
          "base_uri": "https://localhost:8080/"
        },
        "id": "ARiac34dzEUo",
        "outputId": "471e7055-4030-469f-a3ae-0d9e1456fe85"
      },
      "execution_count": 29,
      "outputs": [
        {
          "output_type": "stream",
          "name": "stdout",
          "text": [
            "Google  |  ORG\n"
          ]
        }
      ]
    },
    {
      "cell_type": "code",
      "source": [
        "text='Enzo Ferrari was the founder of the company Ferrari '\n",
        "doc = nlp(text)\n",
        "for ent in doc.ents:\n",
        "  print(ent.text, ' | ',ent.label_,'| ', spacy.explain(ent.label_))"
      ],
      "metadata": {
        "colab": {
          "base_uri": "https://localhost:8080/"
        },
        "id": "EjUYBAQazNch",
        "outputId": "a19db105-b0f6-4b02-c4bf-d473c936f1c9"
      },
      "execution_count": 33,
      "outputs": [
        {
          "output_type": "stream",
          "name": "stdout",
          "text": [
            "Enzo Ferrari  |  PERSON |  People, including fictional\n",
            "Ferrari  |  NORP |  Nationalities or religious or political groups\n"
          ]
        }
      ]
    },
    {
      "cell_type": "code",
      "source": [
        "from spacy.tokens import Span\n",
        "\n",
        "s1=Span(doc, 8,9, label='ORG')\n",
        "doc.set_ents([s1], default='unmodified')"
      ],
      "metadata": {
        "id": "GL3TYs-0zobe"
      },
      "execution_count": 35,
      "outputs": []
    },
    {
      "cell_type": "code",
      "source": [
        "for ent in doc.ents:\n",
        "  print(ent.text, ' | ',ent.label_,'| ', spacy.explain(ent.label_))"
      ],
      "metadata": {
        "colab": {
          "base_uri": "https://localhost:8080/"
        },
        "id": "ZblHvQii0Xsl",
        "outputId": "496f37d1-d143-48c9-a30e-c85a4b3754cc"
      },
      "execution_count": 36,
      "outputs": [
        {
          "output_type": "stream",
          "name": "stdout",
          "text": [
            "Enzo Ferrari  |  PERSON |  People, including fictional\n",
            "Ferrari  |  ORG |  Companies, agencies, institutions, etc.\n"
          ]
        }
      ]
    },
    {
      "cell_type": "code",
      "source": [],
      "metadata": {
        "id": "OgdUG7_30fGO"
      },
      "execution_count": null,
      "outputs": []
    }
  ]
}